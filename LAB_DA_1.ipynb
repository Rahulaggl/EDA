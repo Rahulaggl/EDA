{
  "nbformat": 4,
  "nbformat_minor": 0,
  "metadata": {
    "colab": {
      "provenance": [],
      "toc_visible": true,
      "authorship_tag": "ABX9TyP6hB6WfEnOHo6b2bPlpcMF",
      "include_colab_link": true
    },
    "kernelspec": {
      "name": "python3",
      "display_name": "Python 3"
    },
    "language_info": {
      "name": "python"
    }
  },
  "cells": [
    {
      "cell_type": "markdown",
      "metadata": {
        "id": "view-in-github",
        "colab_type": "text"
      },
      "source": [
        "<a href=\"https://colab.research.google.com/github/Rahulaggl/EDA/blob/main/LAB_DA_1.ipynb\" target=\"_parent\"><img src=\"https://colab.research.google.com/assets/colab-badge.svg\" alt=\"Open In Colab\"/></a>"
      ]
    },
    {
      "cell_type": "markdown",
      "source": [
        "# **Basics of R Programming**"
      ],
      "metadata": {
        "id": "OPYFYqIjbB_x"
      }
    },
    {
      "cell_type": "code",
      "execution_count": null,
      "metadata": {
        "id": "VDyFaKuD2rWZ"
      },
      "outputs": [],
      "source": [
        "import pandas as pd\n",
        "import numpy as np\n",
        "import random\n"
      ]
    },
    {
      "cell_type": "code",
      "source": [
        "# Load dataset from provided URL\n",
        "url = \"https://raw.githubusercontent.com/salemprakash/EDA/main/Data/constituents.csv\"\n",
        "df = pd.read_csv(url)"
      ],
      "metadata": {
        "id": "g4IMfG-qAinm"
      },
      "execution_count": null,
      "outputs": []
    },
    {
      "cell_type": "code",
      "source": [
        "# 1. Display the first few rows of the dataset\n",
        "print(\"Dataset preview:\")\n",
        "print(df.head())"
      ],
      "metadata": {
        "colab": {
          "base_uri": "https://localhost:8080/"
        },
        "id": "H1kbc1JPAqAA",
        "outputId": "1d080bf5-48d8-465c-bb4b-e685e8e3e549"
      },
      "execution_count": null,
      "outputs": [
        {
          "output_type": "stream",
          "name": "stdout",
          "text": [
            "Dataset preview:\n",
            "  Symbol             Security             GICS Sector  \\\n",
            "0    MMM                   3M             Industrials   \n",
            "1    AOS          A. O. Smith             Industrials   \n",
            "2    ABT  Abbott Laboratories             Health Care   \n",
            "3   ABBV               AbbVie             Health Care   \n",
            "4    ACN            Accenture  Information Technology   \n",
            "\n",
            "                GICS Sub-Industry    Headquarters Location  Date added  \\\n",
            "0        Industrial Conglomerates    Saint Paul, Minnesota  1957-03-04   \n",
            "1               Building Products     Milwaukee, Wisconsin  2017-07-26   \n",
            "2           Health Care Equipment  North Chicago, Illinois  1957-03-04   \n",
            "3                   Biotechnology  North Chicago, Illinois  2012-12-31   \n",
            "4  IT Consulting & Other Services          Dublin, Ireland  2011-07-06   \n",
            "\n",
            "       CIK      Founded  \n",
            "0    66740         1902  \n",
            "1    91142         1916  \n",
            "2     1800         1888  \n",
            "3  1551152  2013 (1888)  \n",
            "4  1467373         1989  \n"
          ]
        }
      ]
    },
    {
      "cell_type": "code",
      "source": [
        "# 2. Show memory usage of the dataset\n",
        "print(\"\\nMemory usage of the dataset:\")\n",
        "print(df.memory_usage(deep=True))"
      ],
      "metadata": {
        "colab": {
          "base_uri": "https://localhost:8080/"
        },
        "id": "Oaa4qMaFCOgt",
        "outputId": "418e1071-7372-434b-c651-1caf12f4e9c6"
      },
      "execution_count": null,
      "outputs": [
        {
          "output_type": "stream",
          "name": "stdout",
          "text": [
            "\n",
            "Memory usage of the dataset:\n",
            "Index                      128\n",
            "Symbol                   30265\n",
            "Security                 35721\n",
            "GICS Sector              35646\n",
            "GICS Sub-Industry        40723\n",
            "Headquarters Location    38511\n",
            "Date added               33701\n",
            "CIK                       4024\n",
            "Founded                  31214\n",
            "dtype: int64\n"
          ]
        }
      ]
    },
    {
      "cell_type": "code",
      "source": [
        "# 3. Check the data types of each column\n",
        "print(\"\\nData types of each column:\")\n",
        "print(df.dtypes)"
      ],
      "metadata": {
        "colab": {
          "base_uri": "https://localhost:8080/"
        },
        "id": "m1BEa2nCAv_w",
        "outputId": "7023eb21-4f5c-4504-abdc-098a05bf0b8b"
      },
      "execution_count": null,
      "outputs": [
        {
          "output_type": "stream",
          "name": "stdout",
          "text": [
            "\n",
            "Data types of each column:\n",
            "Symbol                   object\n",
            "Security                 object\n",
            "GICS Sector              object\n",
            "GICS Sub-Industry        object\n",
            "Headquarters Location    object\n",
            "Date added               object\n",
            "CIK                       int64\n",
            "Founded                  object\n",
            "dtype: object\n"
          ]
        }
      ]
    },
    {
      "cell_type": "code",
      "source": [
        "# 4. Create sequence from 20 to 50, mean of 20 to 60, sum of 51 to 91\n",
        "sequence = list(range(20, 51))\n",
        "mean_value = np.mean(list(range(20, 61)))\n",
        "sum_value = np.sum(list(range(51, 92)))\n",
        "print(\"\\nSequence from 20 to 50:\", sequence)\n",
        "print(\"Mean of numbers from 20 to 60:\", mean_value)\n",
        "print(\"Sum of numbers from 51 to 91:\", sum_value)"
      ],
      "metadata": {
        "colab": {
          "base_uri": "https://localhost:8080/"
        },
        "id": "Cl0NOs6DEqhh",
        "outputId": "5b199d3b-57c7-401d-e793-ceabe08645bb"
      },
      "execution_count": null,
      "outputs": [
        {
          "output_type": "stream",
          "name": "stdout",
          "text": [
            "\n",
            "Sequence from 20 to 50: [20, 21, 22, 23, 24, 25, 26, 27, 28, 29, 30, 31, 32, 33, 34, 35, 36, 37, 38, 39, 40, 41, 42, 43, 44, 45, 46, 47, 48, 49, 50]\n",
            "Mean of numbers from 20 to 60: 40.0\n",
            "Sum of numbers from 51 to 91: 2911\n"
          ]
        }
      ]
    },
    {
      "cell_type": "code",
      "source": [
        "# 5. Generate a vector with 10 random integers between -50 and 50\n",
        "random_vector = np.random.randint(-50, 51, 10)\n",
        "print(\"\\nRandom vector of 10 integers between -50 and 50:\", random_vector)"
      ],
      "metadata": {
        "colab": {
          "base_uri": "https://localhost:8080/"
        },
        "id": "d5R6azXMEvNu",
        "outputId": "6ec72059-9a93-4acb-cc83-cf585f6573ec"
      },
      "execution_count": null,
      "outputs": [
        {
          "output_type": "stream",
          "name": "stdout",
          "text": [
            "\n",
            "Random vector of 10 integers between -50 and 50: [ 15  19   7  18 -41  14   4 -22 -45 -13]\n"
          ]
        }
      ]
    },
    {
      "cell_type": "code",
      "source": [
        "# 6. First 10 Fibonacci numbers\n",
        "fibonacci_sequence = [0, 1]\n",
        "for i in range(8):\n",
        "    fibonacci_sequence.append(fibonacci_sequence[-1] + fibonacci_sequence[-2])\n",
        "print(\"\\nFirst 10 Fibonacci numbers:\", fibonacci_sequence)"
      ],
      "metadata": {
        "colab": {
          "base_uri": "https://localhost:8080/"
        },
        "id": "jFkI0hGpEyQq",
        "outputId": "64cf1b86-e327-42a4-d0b8-7ff36f82568c"
      },
      "execution_count": null,
      "outputs": [
        {
          "output_type": "stream",
          "name": "stdout",
          "text": [
            "\n",
            "First 10 Fibonacci numbers: [0, 1, 1, 2, 3, 5, 8, 13, 21, 34]\n"
          ]
        }
      ]
    },
    {
      "cell_type": "code",
      "source": [
        "# 7. Extract first 10 lowercase letters and last 10 uppercase letters\n",
        "lowercase_letters = list(map(chr, range(97, 107)))  # 'a' to 'j'\n",
        "uppercase_letters = list(map(chr, range(65, 75)))  # 'A' to 'J'\n",
        "print(\"\\nFirst 10 lowercase letters:\", lowercase_letters)\n",
        "print(\"First 10 uppercase letters:\", uppercase_letters)"
      ],
      "metadata": {
        "colab": {
          "base_uri": "https://localhost:8080/"
        },
        "id": "Umn8qOa9E1X_",
        "outputId": "6d3b0da4-a8a1-4b90-895e-3c758442a49c"
      },
      "execution_count": null,
      "outputs": [
        {
          "output_type": "stream",
          "name": "stdout",
          "text": [
            "\n",
            "First 10 lowercase letters: ['a', 'b', 'c', 'd', 'e', 'f', 'g', 'h', 'i', 'j']\n",
            "First 10 uppercase letters: ['A', 'B', 'C', 'D', 'E', 'F', 'G', 'H', 'I', 'J']\n"
          ]
        }
      ]
    },
    {
      "cell_type": "code",
      "source": [
        "# 8. Find max and min in the random vector generated above\n",
        "max_value = np.max(random_vector)\n",
        "min_value = np.min(random_vector)\n",
        "print(\"\\nMax value in random vector:\", max_value)\n",
        "print(\"Min value in random vector:\", min_value)"
      ],
      "metadata": {
        "colab": {
          "base_uri": "https://localhost:8080/"
        },
        "id": "QN9QNOMOE4mX",
        "outputId": "192520f0-9c48-4464-e3d3-4aeaf92422e6"
      },
      "execution_count": null,
      "outputs": [
        {
          "output_type": "stream",
          "name": "stdout",
          "text": [
            "\n",
            "Max value in random vector: 19\n",
            "Min value in random vector: -45\n"
          ]
        }
      ]
    },
    {
      "cell_type": "code",
      "source": [
        "# 9. Get unique elements of a string and a vector\n",
        "example_string = \"abracadabra\"\n",
        "unique_chars = ''.join(set(example_string))\n",
        "unique_vector = np.unique(random_vector)\n",
        "print(\"\\nUnique characters in the string 'abracadabra':\", unique_chars)\n",
        "print(\"Unique elements in the random vector:\", unique_vector)"
      ],
      "metadata": {
        "colab": {
          "base_uri": "https://localhost:8080/"
        },
        "id": "GBn_YYvmE71z",
        "outputId": "9a3c695a-c37b-44a0-bc72-6f4d338fe193"
      },
      "execution_count": null,
      "outputs": [
        {
          "output_type": "stream",
          "name": "stdout",
          "text": [
            "\n",
            "Unique characters in the string 'abracadabra': rabcd\n",
            "Unique elements in the random vector: [-45 -41 -22 -13   4   7  14  15  18  19]\n"
          ]
        }
      ]
    },
    {
      "cell_type": "code",
      "source": [
        "# 10. Combine three vectors to form a 3x3 matrix\n",
        "a = np.array([1, 2, 3])\n",
        "b = np.array([4, 5, 6])\n",
        "c = np.array([7, 8, 9])\n",
        "matrix = np.column_stack((a, b, c))\n",
        "print(\"\\nCombined 3x3 matrix:\\n\", matrix)"
      ],
      "metadata": {
        "colab": {
          "base_uri": "https://localhost:8080/"
        },
        "id": "4BwERFV5E-0r",
        "outputId": "35275f4e-71e0-4b40-c09f-8ba6c5b05a44"
      },
      "execution_count": null,
      "outputs": [
        {
          "output_type": "stream",
          "name": "stdout",
          "text": [
            "\n",
            "Combined 3x3 matrix:\n",
            " [[1 4 7]\n",
            " [2 5 8]\n",
            " [3 6 9]]\n"
          ]
        }
      ]
    },
    {
      "cell_type": "code",
      "source": [
        "# 11. Count occurrences of each value in a normal distribution\n",
        "normal_dist_values = np.random.randn(100)\n",
        "value_counts = pd.Series(normal_dist_values).value_counts()\n",
        "print(\"\\nValue counts in normal distribution:\\n\", value_counts)"
      ],
      "metadata": {
        "colab": {
          "base_uri": "https://localhost:8080/"
        },
        "id": "jkG8oySmFBbT",
        "outputId": "cc63cbe7-22f2-4b55-d7ef-56a628e4ce64"
      },
      "execution_count": null,
      "outputs": [
        {
          "output_type": "stream",
          "name": "stdout",
          "text": [
            "\n",
            "Value counts in normal distribution:\n",
            " -2.595468    1\n",
            " 0.448461    1\n",
            " 0.312849    1\n",
            "-0.400410    1\n",
            "-1.775730    1\n",
            "            ..\n",
            " 0.633074    1\n",
            "-0.013843    1\n",
            " 0.708883    1\n",
            "-2.190722    1\n",
            " 2.510869    1\n",
            "Name: count, Length: 100, dtype: int64\n"
          ]
        }
      ]
    },
    {
      "cell_type": "code",
      "source": [
        "# 12. Read CSV (already done above) and display the content\n",
        "print(\"\\nDataset content:\")\n",
        "print(df.head())"
      ],
      "metadata": {
        "colab": {
          "base_uri": "https://localhost:8080/"
        },
        "id": "Irz3ln_jFF58",
        "outputId": "de450268-6cb4-4b6d-b013-25d4fc47d571"
      },
      "execution_count": null,
      "outputs": [
        {
          "output_type": "stream",
          "name": "stdout",
          "text": [
            "\n",
            "Dataset content:\n",
            "  Symbol             Security             GICS Sector  \\\n",
            "0    MMM                   3M             Industrials   \n",
            "1    AOS          A. O. Smith             Industrials   \n",
            "2    ABT  Abbott Laboratories             Health Care   \n",
            "3   ABBV               AbbVie             Health Care   \n",
            "4    ACN            Accenture  Information Technology   \n",
            "\n",
            "                GICS Sub-Industry    Headquarters Location  Date added  \\\n",
            "0        Industrial Conglomerates    Saint Paul, Minnesota  1957-03-04   \n",
            "1               Building Products     Milwaukee, Wisconsin  2017-07-26   \n",
            "2           Health Care Equipment  North Chicago, Illinois  1957-03-04   \n",
            "3                   Biotechnology  North Chicago, Illinois  2012-12-31   \n",
            "4  IT Consulting & Other Services          Dublin, Ireland  2011-07-06   \n",
            "\n",
            "       CIK      Founded  \n",
            "0    66740         1902  \n",
            "1    91142         1916  \n",
            "2     1800         1888  \n",
            "3  1551152  2013 (1888)  \n",
            "4  1467373         1989  \n"
          ]
        }
      ]
    },
    {
      "cell_type": "code",
      "source": [
        "# 13. Create a DataFrame of employee details and provide summary\n",
        "employee_data = {'Name': ['John', 'Emma', 'Harry', 'Olivia', 'James'],\n",
        "                 'Age': [30, 24, 35, 28, 40],\n",
        "                 'Position': ['Manager', 'Analyst', 'Clerk', 'Engineer', 'Supervisor']}\n",
        "employee_df = pd.DataFrame(employee_data)\n",
        "print(\"\\nEmployee Data:\\n\", employee_df)\n",
        "print(\"\\nSummary of employee data:\\n\", employee_df.describe())\n"
      ],
      "metadata": {
        "colab": {
          "base_uri": "https://localhost:8080/"
        },
        "id": "okGyMxYfFHjS",
        "outputId": "d2a099a4-220e-4cad-9b96-408d0960af9a"
      },
      "execution_count": null,
      "outputs": [
        {
          "output_type": "stream",
          "name": "stdout",
          "text": [
            "\n",
            "Employee Data:\n",
            "      Name  Age    Position\n",
            "0    John   30     Manager\n",
            "1    Emma   24     Analyst\n",
            "2   Harry   35       Clerk\n",
            "3  Olivia   28    Engineer\n",
            "4   James   40  Supervisor\n",
            "\n",
            "Summary of employee data:\n",
            "              Age\n",
            "count   5.000000\n",
            "mean   31.400000\n",
            "std     6.228965\n",
            "min    24.000000\n",
            "25%    28.000000\n",
            "50%    30.000000\n",
            "75%    35.000000\n",
            "max    40.000000\n"
          ]
        }
      ]
    },
    {
      "cell_type": "code",
      "source": [
        "# 14. Print numbers 1 to 100 with specific conditions\n",
        "print(\"\\nNumbers 1 to 100 with conditions:\")\n",
        "for i in range(1, 101):\n",
        "    if i % 2 == 0 and i % 4 == 0:\n",
        "        print(f\"{i}: Exploratory Data Analysis\")\n",
        "    elif i % 2 == 0:\n",
        "        print(f\"{i}: Exploratory\")\n",
        "    elif i % 4 == 0:\n",
        "        print(f\"{i}: Data Analysis\")\n",
        "    else:\n",
        "        print(i)"
      ],
      "metadata": {
        "colab": {
          "base_uri": "https://localhost:8080/"
        },
        "id": "Uz2fbeBJFPGf",
        "outputId": "5998d3a0-8385-48c8-bc38-63459d36603d"
      },
      "execution_count": null,
      "outputs": [
        {
          "output_type": "stream",
          "name": "stdout",
          "text": [
            "\n",
            "Numbers 1 to 100 with conditions:\n",
            "1\n",
            "2: Exploratory\n",
            "3\n",
            "4: Exploratory Data Analysis\n",
            "5\n",
            "6: Exploratory\n",
            "7\n",
            "8: Exploratory Data Analysis\n",
            "9\n",
            "10: Exploratory\n",
            "11\n",
            "12: Exploratory Data Analysis\n",
            "13\n",
            "14: Exploratory\n",
            "15\n",
            "16: Exploratory Data Analysis\n",
            "17\n",
            "18: Exploratory\n",
            "19\n",
            "20: Exploratory Data Analysis\n",
            "21\n",
            "22: Exploratory\n",
            "23\n",
            "24: Exploratory Data Analysis\n",
            "25\n",
            "26: Exploratory\n",
            "27\n",
            "28: Exploratory Data Analysis\n",
            "29\n",
            "30: Exploratory\n",
            "31\n",
            "32: Exploratory Data Analysis\n",
            "33\n",
            "34: Exploratory\n",
            "35\n",
            "36: Exploratory Data Analysis\n",
            "37\n",
            "38: Exploratory\n",
            "39\n",
            "40: Exploratory Data Analysis\n",
            "41\n",
            "42: Exploratory\n",
            "43\n",
            "44: Exploratory Data Analysis\n",
            "45\n",
            "46: Exploratory\n",
            "47\n",
            "48: Exploratory Data Analysis\n",
            "49\n",
            "50: Exploratory\n",
            "51\n",
            "52: Exploratory Data Analysis\n",
            "53\n",
            "54: Exploratory\n",
            "55\n",
            "56: Exploratory Data Analysis\n",
            "57\n",
            "58: Exploratory\n",
            "59\n",
            "60: Exploratory Data Analysis\n",
            "61\n",
            "62: Exploratory\n",
            "63\n",
            "64: Exploratory Data Analysis\n",
            "65\n",
            "66: Exploratory\n",
            "67\n",
            "68: Exploratory Data Analysis\n",
            "69\n",
            "70: Exploratory\n",
            "71\n",
            "72: Exploratory Data Analysis\n",
            "73\n",
            "74: Exploratory\n",
            "75\n",
            "76: Exploratory Data Analysis\n",
            "77\n",
            "78: Exploratory\n",
            "79\n",
            "80: Exploratory Data Analysis\n",
            "81\n",
            "82: Exploratory\n",
            "83\n",
            "84: Exploratory Data Analysis\n",
            "85\n",
            "86: Exploratory\n",
            "87\n",
            "88: Exploratory Data Analysis\n",
            "89\n",
            "90: Exploratory\n",
            "91\n",
            "92: Exploratory Data Analysis\n",
            "93\n",
            "94: Exploratory\n",
            "95\n",
            "96: Exploratory Data Analysis\n",
            "97\n",
            "98: Exploratory\n",
            "99\n",
            "100: Exploratory Data Analysis\n"
          ]
        }
      ]
    },
    {
      "cell_type": "code",
      "source": [
        "# 15. Vector operations: Sum, Mean, and Every 2nd element\n",
        "vector = pd.Series([10, 20, 30, 40, 50])\n",
        "vector_sum = vector.sum()\n",
        "vector_mean = vector.mean()\n",
        "second_elements = vector[1::2]\n",
        "print(\"\\nSum of vector elements:\", vector_sum)\n",
        "print(\"Mean of vector elements:\", vector_mean)\n",
        "print(\"Every second element in vector:\", second_elements)\n"
      ],
      "metadata": {
        "colab": {
          "base_uri": "https://localhost:8080/"
        },
        "id": "1gBk6qUCFSKS",
        "outputId": "10b795ca-630e-461a-fb72-8ddf5dd9c7bf"
      },
      "execution_count": null,
      "outputs": [
        {
          "output_type": "stream",
          "name": "stdout",
          "text": [
            "\n",
            "Sum of vector elements: 150\n",
            "Mean of vector elements: 30.0\n",
            "Every second element in vector: 1    20\n",
            "3    40\n",
            "dtype: int64\n"
          ]
        }
      ]
    },
    {
      "cell_type": "code",
      "source": [
        "# 16. Multiplication game with 5 correct answers\n",
        "correct = 0\n",
        "while correct < 5:\n",
        "    num1, num2 = random.randint(2, 12), random.randint(2, 12)\n",
        "    answer = int(input(f\"What is {num1} * {num2}? \"))\n",
        "    if answer == num1 * num2:\n",
        "        print(\"Correct!\")\n",
        "        correct += 1\n",
        "    else:\n",
        "        print(\"Try again.\")"
      ],
      "metadata": {
        "colab": {
          "base_uri": "https://localhost:8080/"
        },
        "id": "rOPf5kO2FUtJ",
        "outputId": "166f615f-782f-4ee2-d5df-ddc841476219"
      },
      "execution_count": null,
      "outputs": [
        {
          "output_type": "stream",
          "name": "stdout",
          "text": [
            "What is 2 * 5? 10\n",
            "Correct!\n",
            "What is 8 * 6? 48\n",
            "Correct!\n",
            "What is 7 * 8? 56\n",
            "Correct!\n",
            "What is 11 * 12? 132\n",
            "Correct!\n",
            "What is 5 * 8? 40\n",
            "Correct!\n"
          ]
        }
      ]
    },
    {
      "cell_type": "code",
      "source": [
        "# 17. Find the first positive integer whose square exceeds 4000\n",
        "num = 1\n",
        "while num ** 2 <= 4000:\n",
        "    num += 1\n",
        "print(\"\\nThe first integer whose square exceeds 4000:\", num)"
      ],
      "metadata": {
        "colab": {
          "base_uri": "https://localhost:8080/"
        },
        "id": "88IPedz_FYgs",
        "outputId": "c9b4590a-3158-41cc-97a8-047dbffb3c73"
      },
      "execution_count": null,
      "outputs": [
        {
          "output_type": "stream",
          "name": "stdout",
          "text": [
            "\n",
            "The first integer whose square exceeds 4000: 64\n"
          ]
        }
      ]
    },
    {
      "cell_type": "code",
      "source": [
        "# 20. Create and display vectors of numeric, character, and logical data\n",
        "numeric_data = np.array([1, 2, 3, 4, 5])\n",
        "character_data = np.array(['a', 'b', 'c', 'd', 'e'])\n",
        "logical_data = np.array([True, False, True, False, True])\n",
        "print(\"\\nNumeric data vector:\", numeric_data)\n",
        "print(\"Character data vector:\", character_data)\n",
        "print(\"Logical data vector:\", logical_data)\n"
      ],
      "metadata": {
        "colab": {
          "base_uri": "https://localhost:8080/"
        },
        "id": "W8rpwcyiA0M6",
        "outputId": "fc248630-3b74-46be-8bb4-b6f00840fc58"
      },
      "execution_count": null,
      "outputs": [
        {
          "output_type": "stream",
          "name": "stdout",
          "text": [
            "\n",
            "Numeric data vector: [1 2 3 4 5]\n",
            "Character data vector: ['a' 'b' 'c' 'd' 'e']\n",
            "Logical data vector: [ True False  True False  True]\n"
          ]
        }
      ]
    },
    {
      "cell_type": "code",
      "source": [
        "# 18. Create vectors of different types and lengths\n",
        "numeric_vector = np.zeros(6)\n",
        "complex_vector = np.zeros(6, dtype=complex)\n",
        "logical_vector = np.full(6, True)\n",
        "char_vector = np.array(list('abcdef'))\n",
        "print(\"\\nNumeric vector:\", numeric_vector)\n",
        "print(\"Complex vector:\", complex_vector)\n",
        "print(\"Logical vector:\", logical_vector)\n",
        "print(\"Character vector:\", char_vector)"
      ],
      "metadata": {
        "colab": {
          "base_uri": "https://localhost:8080/"
        },
        "id": "UrOXO91-FV17",
        "outputId": "83d49739-8565-4b36-8d61-ba3519237118"
      },
      "execution_count": null,
      "outputs": [
        {
          "output_type": "stream",
          "name": "stdout",
          "text": [
            "\n",
            "Numeric vector: [0. 0. 0. 0. 0. 0.]\n",
            "Complex vector: [0.+0.j 0.+0.j 0.+0.j 0.+0.j 0.+0.j 0.+0.j]\n",
            "Logical vector: [ True  True  True  True  True  True]\n",
            "Character vector: ['a' 'b' 'c' 'd' 'e' 'f']\n"
          ]
        }
      ]
    },
    {
      "cell_type": "code",
      "source": [
        "# 19. Construct a 4x2 matrix filled row-wise\n",
        "matrix_4x2 = np.array([4.3, 3.1, 8.2, 8.2, 3.2, 0.9, 1.6, 6.5]).reshape(4, 2)\n",
        "print(\"\\n4x2 matrix (filled row-wise):\\n\", matrix_4x2)"
      ],
      "metadata": {
        "id": "KY7n1hYrFgHn"
      },
      "execution_count": null,
      "outputs": []
    },
    {
      "cell_type": "markdown",
      "source": [
        "# **Merging Data frames**"
      ],
      "metadata": {
        "id": "r6a5saN4bXcm"
      }
    },
    {
      "cell_type": "code",
      "source": [
        "import pandas as pd\n",
        "\n",
        "# Sample dataset representing your company data (use relevant data in your case)\n",
        "data = {\n",
        "    'Symbol': ['MMM', 'AOS', 'ABT', 'ABBV', 'ACN'],\n",
        "    'Security': ['3M', 'A. O. Smith', 'Abbott Laboratories', 'AbbVie', 'Accenture'],\n",
        "    'GICS Sector': ['Industrials', 'Industrials', 'Health Care', 'Health Care', 'Information Technology'],\n",
        "    'GICS Sub-Industry': ['Industrial Conglomerates', 'Building Products', 'Health Care Equipment', 'Biotechnology', 'IT Consulting & Other Services'],\n",
        "    'Headquarters Location': ['Saint Paul, Minnesota', 'Milwaukee, Wisconsin', 'North Chicago, Illinois', 'North Chicago, Illinois', 'Dublin, Ireland'],\n",
        "    'Date added': ['1957-03-04', '2017-07-26', '1957-03-04', '2012-12-31', '2011-07-06'],\n",
        "    'CIK': [66740, 91142, 1800, 1551152, 1467373],\n",
        "    'Founded': [1902, 1916, 1888, 2013, 1989]\n",
        "}\n"
      ],
      "metadata": {
        "id": "1x8GR7LLH7Ht"
      },
      "execution_count": null,
      "outputs": []
    },
    {
      "cell_type": "code",
      "source": [
        "# Task 1: Create DataFrame1 ‘Fname’\n",
        "CompanyData1 = pd.DataFrame({\n",
        "    'Symbol': ['ABT', 'MMM', 'ABBV', 'AOS', 'ACN'],\n",
        "    'NameofProd': ['Abbott', '3M', 'AbbVie', 'Smith', 'Accenture'],\n",
        "    'Price': [100, 200, 300, 400, 500]\n",
        "})\n",
        "print(\"DataFrame 1 (CompanyData1):\")\n",
        "print(CompanyData1)"
      ],
      "metadata": {
        "colab": {
          "base_uri": "https://localhost:8080/"
        },
        "id": "pNNqESxgISrU",
        "outputId": "194c295f-a890-4d78-b5e3-f733a9cdfb40"
      },
      "execution_count": null,
      "outputs": [
        {
          "output_type": "stream",
          "name": "stdout",
          "text": [
            "DataFrame 1 (CompanyData1):\n",
            "  Symbol NameofProd  Price\n",
            "0    ABT     Abbott    100\n",
            "1    MMM         3M    200\n",
            "2   ABBV     AbbVie    300\n",
            "3    AOS      Smith    400\n",
            "4    ACN  Accenture    500\n"
          ]
        }
      ]
    },
    {
      "cell_type": "code",
      "source": [
        "# Task 2: Create DataFrame2 ‘Sample’\n",
        "CompanyData2 = pd.DataFrame({\n",
        "    'Symbol': ['MMM', 'ABBV'],\n",
        "    'NameofProd': ['3M', 'AbbVie'],\n",
        "    'Price': [150, 250]\n",
        "})\n",
        "print(\"\\nDataFrame 2 (CompanyData2):\")\n",
        "print(CompanyData2)"
      ],
      "metadata": {
        "colab": {
          "base_uri": "https://localhost:8080/"
        },
        "id": "RqcjclH8ISg8",
        "outputId": "8c2a2155-40ef-4e0a-98ec-ff6c12b4b9bd"
      },
      "execution_count": null,
      "outputs": [
        {
          "output_type": "stream",
          "name": "stdout",
          "text": [
            "\n",
            "DataFrame 2 (CompanyData2):\n",
            "  Symbol NameofProd  Price\n",
            "0    MMM         3M    150\n",
            "1   ABBV     AbbVie    250\n"
          ]
        }
      ]
    },
    {
      "cell_type": "code",
      "source": [
        "# Task 3: Create DataFrame3 ‘Lname’\n",
        "CompanyData3 = pd.DataFrame({\n",
        "    'Symbol': ['ABT', 'MMM', 'ABBV', 'AOS', 'ACN'],\n",
        "    'Company_Location': ['Chicago', 'Saint Paul', 'Chicago', 'Milwaukee', 'Dublin']\n",
        "})\n",
        "print(\"\\nDataFrame 3 (CompanyData3):\")\n",
        "print(CompanyData3)"
      ],
      "metadata": {
        "colab": {
          "base_uri": "https://localhost:8080/"
        },
        "id": "wfYruirGISCP",
        "outputId": "357ce4e6-73fa-4b31-f7dc-90483138ae0d"
      },
      "execution_count": null,
      "outputs": [
        {
          "output_type": "stream",
          "name": "stdout",
          "text": [
            "\n",
            "DataFrame 3 (CompanyData3):\n",
            "  Symbol Company_Location\n",
            "0    ABT          Chicago\n",
            "1    MMM       Saint Paul\n",
            "2   ABBV          Chicago\n",
            "3    AOS        Milwaukee\n",
            "4    ACN           Dublin\n"
          ]
        }
      ]
    },
    {
      "cell_type": "code",
      "source": [
        "# Task 4: Append DataFrame1 and DataFrame2 using pd.concat\n",
        "appended_df = pd.concat([CompanyData1, CompanyData2], ignore_index=True)\n",
        "print(\"\\nAppended DataFrame (CompanyData1 + CompanyData2):\")\n",
        "print(appended_df)"
      ],
      "metadata": {
        "colab": {
          "base_uri": "https://localhost:8080/"
        },
        "id": "hTOTuPl0Ibih",
        "outputId": "7c7cb0ce-40bd-42ed-84f5-0fd9cdb0fa05"
      },
      "execution_count": null,
      "outputs": [
        {
          "output_type": "stream",
          "name": "stdout",
          "text": [
            "\n",
            "Appended DataFrame (CompanyData1 + CompanyData2):\n",
            "  Symbol NameofProd  Price\n",
            "0    ABT     Abbott    100\n",
            "1    MMM         3M    200\n",
            "2   ABBV     AbbVie    300\n",
            "3    AOS      Smith    400\n",
            "4    ACN  Accenture    500\n",
            "5    MMM         3M    150\n",
            "6   ABBV     AbbVie    250\n"
          ]
        }
      ]
    },
    {
      "cell_type": "code",
      "source": [
        "# Task 5: Combine DataFrame1 and DataFrame3 using pd.concat (like a horizontal stack)\n",
        "combined_df = pd.concat([CompanyData1, CompanyData3], axis=1)\n",
        "print(\"\\nCombined DataFrame (CompanyData1 + CompanyData3):\")\n",
        "print(combined_df)"
      ],
      "metadata": {
        "colab": {
          "base_uri": "https://localhost:8080/"
        },
        "id": "Gk4VMiPGIckf",
        "outputId": "8684bb12-18c0-43dd-cbee-e9e31d63f19a"
      },
      "execution_count": null,
      "outputs": [
        {
          "output_type": "stream",
          "name": "stdout",
          "text": [
            "\n",
            "Combined DataFrame (CompanyData1 + CompanyData3):\n",
            "  Symbol NameofProd  Price Symbol Company_Location\n",
            "0    ABT     Abbott    100    ABT          Chicago\n",
            "1    MMM         3M    200    MMM       Saint Paul\n",
            "2   ABBV     AbbVie    300   ABBV          Chicago\n",
            "3    AOS      Smith    400    AOS        Milwaukee\n",
            "4    ACN  Accenture    500    ACN           Dublin\n"
          ]
        }
      ]
    },
    {
      "cell_type": "code",
      "source": [
        "# Task 6: Merge DataFrame1 and DataFrame3 by 'Symbol' using inner join (default behavior)\n",
        "merged_df_inner = pd.merge(CompanyData1, CompanyData3, on='Symbol')\n",
        "print(\"\\nMerged DataFrame (Inner Join on Symbol):\")\n",
        "print(merged_df_inner)"
      ],
      "metadata": {
        "colab": {
          "base_uri": "https://localhost:8080/"
        },
        "id": "mxTaAdg_IcX5",
        "outputId": "5b72c467-d2fd-4f02-e2f3-0df16cd07ffb"
      },
      "execution_count": null,
      "outputs": [
        {
          "output_type": "stream",
          "name": "stdout",
          "text": [
            "\n",
            "Merged DataFrame (Inner Join on Symbol):\n",
            "  Symbol NameofProd  Price Company_Location\n",
            "0    ABT     Abbott    100          Chicago\n",
            "1    MMM         3M    200       Saint Paul\n",
            "2   ABBV     AbbVie    300          Chicago\n",
            "3    AOS      Smith    400        Milwaukee\n",
            "4    ACN  Accenture    500           Dublin\n"
          ]
        }
      ]
    },
    {
      "cell_type": "code",
      "source": [
        "# Task 7: Perform Left and Right Joins using pd.merge\n",
        "# Left Join\n",
        "merged_df_left = pd.merge(CompanyData1, CompanyData3, on='Symbol', how='left')\n",
        "print(\"\\nMerged DataFrame (Left Join on Symbol):\")\n",
        "print(merged_df_left)\n",
        "\n",
        "# Right Join\n",
        "merged_df_right = pd.merge(CompanyData1, CompanyData3, on='Symbol', how='right')\n",
        "print(\"\\nMerged DataFrame (Right Join on Symbol):\")\n",
        "print(merged_df_right)"
      ],
      "metadata": {
        "colab": {
          "base_uri": "https://localhost:8080/"
        },
        "id": "1NC778_xIcJU",
        "outputId": "ff0c0cbc-8d99-41a3-d8ec-6a999f7cfec7"
      },
      "execution_count": null,
      "outputs": [
        {
          "output_type": "stream",
          "name": "stdout",
          "text": [
            "\n",
            "Merged DataFrame (Left Join on Symbol):\n",
            "  Symbol NameofProd  Price Company_Location\n",
            "0    ABT     Abbott    100          Chicago\n",
            "1    MMM         3M    200       Saint Paul\n",
            "2   ABBV     AbbVie    300          Chicago\n",
            "3    AOS      Smith    400        Milwaukee\n",
            "4    ACN  Accenture    500           Dublin\n",
            "\n",
            "Merged DataFrame (Right Join on Symbol):\n",
            "  Symbol NameofProd  Price Company_Location\n",
            "0    ABT     Abbott    100          Chicago\n",
            "1    MMM         3M    200       Saint Paul\n",
            "2   ABBV     AbbVie    300          Chicago\n",
            "3    AOS      Smith    400        Milwaukee\n",
            "4    ACN  Accenture    500           Dublin\n"
          ]
        }
      ]
    },
    {
      "cell_type": "markdown",
      "source": [
        "# **Data transformation and pre-processing**"
      ],
      "metadata": {
        "id": "jibYV6_bbh5h"
      }
    },
    {
      "cell_type": "code",
      "source": [
        "def get_data():\n",
        "    data = input(\"Enter a list of numbers separated by commas: \")\n",
        "    # Convert input string to a list of floats, splitting by commas\n",
        "    return list(map(float, data.split(',')))\n",
        "\n",
        "def normalize_Rollno(data, new_min, new_max):\n",
        "    old_min = min(data)\n",
        "    old_max = max(data)\n",
        "\n",
        "    # Normalize using the formula\n",
        "    normalized_data = [\n",
        "        new_min + (new_max - new_min) * (value - old_min) / (old_max - old_min)\n",
        "        for value in data\n",
        "    ]\n",
        "    return normalized_data\n",
        "\n",
        "def main():\n",
        "    # Step 1: Get data\n",
        "    data = get_data()\n",
        "\n",
        "    # Step 3: Normalize data to range [0, 1]\n",
        "    normalized_0_1 = normalize_Rollno(data, 0, 1)\n",
        "    print(\"Data normalized to range [0, 1]:\", normalized_0_1)\n",
        "\n",
        "    # Step 4: Normalize data to range [-1, 1]\n",
        "    normalized_minus1_1 = normalize_Rollno(data, -1, 1)\n",
        "    print(\"Data normalized to range [-1, 1]:\", normalized_minus1_1)\n",
        "\n",
        "    # Step 5: Normalize data to range [-3, 3]\n",
        "    normalized_minus3_3 = normalize_Rollno(data, -3, 3)\n",
        "    print(\"Data normalized to range [-3, 3]:\", normalized_minus3_3)\n",
        "\n",
        "# Run the main program\n",
        "if __name__ == \"__main__\":\n",
        "    main()\n"
      ],
      "metadata": {
        "colab": {
          "base_uri": "https://localhost:8080/"
        },
        "id": "I2XrkyIMG5eC",
        "outputId": "6d45a47f-d719-4ba6-fdd5-15b18e49becf"
      },
      "execution_count": null,
      "outputs": [
        {
          "output_type": "stream",
          "name": "stdout",
          "text": [
            "Enter a list of numbers separated by commas: 10,20,30,40,50\n",
            "Data normalized to range [0, 1]: [0.0, 0.25, 0.5, 0.75, 1.0]\n",
            "Data normalized to range [-1, 1]: [-1.0, -0.5, 0.0, 0.5, 1.0]\n",
            "Data normalized to range [-3, 3]: [-3.0, -1.5, 0.0, 1.5, 3.0]\n"
          ]
        }
      ]
    }
  ]
}